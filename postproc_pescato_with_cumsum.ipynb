{
 "cells": [
  {
   "cell_type": "code",
   "execution_count": 1,
   "metadata": {},
   "outputs": [],
   "source": [
    "import pandas as pd"
   ]
  },
  {
   "cell_type": "code",
   "execution_count": 4,
   "metadata": {},
   "outputs": [],
   "source": [
    "DATASET_DIR = \"out/\""
   ]
  },
  {
   "cell_type": "code",
   "execution_count": 5,
   "metadata": {},
   "outputs": [],
   "source": [
    "df = pd.read_csv(DATASET_DIR + \"lista_sbarcato_per_porto_cleaned.csv\", delimiter=',')"
   ]
  },
  {
   "cell_type": "code",
   "execution_count": 6,
   "metadata": {},
   "outputs": [
    {
     "data": {
      "text/html": [
       "<div>\n",
       "<style scoped>\n",
       "    .dataframe tbody tr th:only-of-type {\n",
       "        vertical-align: middle;\n",
       "    }\n",
       "\n",
       "    .dataframe tbody tr th {\n",
       "        vertical-align: top;\n",
       "    }\n",
       "\n",
       "    .dataframe thead th {\n",
       "        text-align: right;\n",
       "    }\n",
       "</style>\n",
       "<table border=\"1\" class=\"dataframe\">\n",
       "  <thead>\n",
       "    <tr style=\"text-align: right;\">\n",
       "      <th></th>\n",
       "      <th>id</th>\n",
       "      <th>data_sbarco</th>\n",
       "      <th>nome_porto</th>\n",
       "      <th>latitudine</th>\n",
       "      <th>longitudine</th>\n",
       "      <th>nome_specie</th>\n",
       "      <th>quantita</th>\n",
       "    </tr>\n",
       "  </thead>\n",
       "  <tbody>\n",
       "    <tr>\n",
       "      <th>0</th>\n",
       "      <td>0</td>\n",
       "      <td>2019-01-15T11:15:00.000Z</td>\n",
       "      <td>PORTO GARIBALDI</td>\n",
       "      <td>44.666668</td>\n",
       "      <td>12.233334</td>\n",
       "      <td>Sillaginidae</td>\n",
       "      <td>3.0</td>\n",
       "    </tr>\n",
       "    <tr>\n",
       "      <th>1</th>\n",
       "      <td>1</td>\n",
       "      <td>2019-01-15T11:15:00.000Z</td>\n",
       "      <td>PORTO GARIBALDI</td>\n",
       "      <td>44.666668</td>\n",
       "      <td>12.233334</td>\n",
       "      <td>Seppia comune</td>\n",
       "      <td>2.0</td>\n",
       "    </tr>\n",
       "    <tr>\n",
       "      <th>2</th>\n",
       "      <td>2</td>\n",
       "      <td>2019-01-15T11:15:00.000Z</td>\n",
       "      <td>PORTO GARIBALDI</td>\n",
       "      <td>44.666668</td>\n",
       "      <td>12.233334</td>\n",
       "      <td>Sogliola</td>\n",
       "      <td>4.0</td>\n",
       "    </tr>\n",
       "    <tr>\n",
       "      <th>3</th>\n",
       "      <td>3</td>\n",
       "      <td>2019-01-15T11:15:00.000Z</td>\n",
       "      <td>PORTO GARIBALDI</td>\n",
       "      <td>44.666668</td>\n",
       "      <td>12.233334</td>\n",
       "      <td>Merluzzo argentato - Nasello</td>\n",
       "      <td>3.0</td>\n",
       "    </tr>\n",
       "    <tr>\n",
       "      <th>4</th>\n",
       "      <td>4</td>\n",
       "      <td>2019-01-15T11:15:00.000Z</td>\n",
       "      <td>PORTO GARIBALDI</td>\n",
       "      <td>44.666668</td>\n",
       "      <td>12.233334</td>\n",
       "      <td>Mazzancolla</td>\n",
       "      <td>2.0</td>\n",
       "    </tr>\n",
       "    <tr>\n",
       "      <th>5</th>\n",
       "      <td>5</td>\n",
       "      <td>2019-01-15T11:15:00.000Z</td>\n",
       "      <td>PORTO GARIBALDI</td>\n",
       "      <td>44.666668</td>\n",
       "      <td>12.233334</td>\n",
       "      <td>Rombo chiodato</td>\n",
       "      <td>1.0</td>\n",
       "    </tr>\n",
       "    <tr>\n",
       "      <th>6</th>\n",
       "      <td>6</td>\n",
       "      <td>2019-01-15T11:15:00.000Z</td>\n",
       "      <td>PORTO GARIBALDI</td>\n",
       "      <td>44.666668</td>\n",
       "      <td>12.233334</td>\n",
       "      <td>Suacia</td>\n",
       "      <td>4.0</td>\n",
       "    </tr>\n",
       "    <tr>\n",
       "      <th>7</th>\n",
       "      <td>7</td>\n",
       "      <td>2019-01-15T11:15:00.000Z</td>\n",
       "      <td>PORTO GARIBALDI</td>\n",
       "      <td>44.666668</td>\n",
       "      <td>12.233334</td>\n",
       "      <td>Capone gorno</td>\n",
       "      <td>4.0</td>\n",
       "    </tr>\n",
       "    <tr>\n",
       "      <th>8</th>\n",
       "      <td>8</td>\n",
       "      <td>2019-01-15T11:15:00.000Z</td>\n",
       "      <td>PORTO GARIBALDI</td>\n",
       "      <td>44.666668</td>\n",
       "      <td>12.233334</td>\n",
       "      <td>Pannocchia, Canocchia</td>\n",
       "      <td>104.0</td>\n",
       "    </tr>\n",
       "    <tr>\n",
       "      <th>9</th>\n",
       "      <td>9</td>\n",
       "      <td>2019-04-08T16:05:00.000Z</td>\n",
       "      <td>VIAREGGIO</td>\n",
       "      <td>43.866665</td>\n",
       "      <td>10.216666</td>\n",
       "      <td>Sillaginidae</td>\n",
       "      <td>3.7</td>\n",
       "    </tr>\n",
       "  </tbody>\n",
       "</table>\n",
       "</div>"
      ],
      "text/plain": [
       "   id               data_sbarco       nome_porto  latitudine  longitudine  \\\n",
       "0   0  2019-01-15T11:15:00.000Z  PORTO GARIBALDI   44.666668    12.233334   \n",
       "1   1  2019-01-15T11:15:00.000Z  PORTO GARIBALDI   44.666668    12.233334   \n",
       "2   2  2019-01-15T11:15:00.000Z  PORTO GARIBALDI   44.666668    12.233334   \n",
       "3   3  2019-01-15T11:15:00.000Z  PORTO GARIBALDI   44.666668    12.233334   \n",
       "4   4  2019-01-15T11:15:00.000Z  PORTO GARIBALDI   44.666668    12.233334   \n",
       "5   5  2019-01-15T11:15:00.000Z  PORTO GARIBALDI   44.666668    12.233334   \n",
       "6   6  2019-01-15T11:15:00.000Z  PORTO GARIBALDI   44.666668    12.233334   \n",
       "7   7  2019-01-15T11:15:00.000Z  PORTO GARIBALDI   44.666668    12.233334   \n",
       "8   8  2019-01-15T11:15:00.000Z  PORTO GARIBALDI   44.666668    12.233334   \n",
       "9   9  2019-04-08T16:05:00.000Z        VIAREGGIO   43.866665    10.216666   \n",
       "\n",
       "                    nome_specie  quantita  \n",
       "0                  Sillaginidae       3.0  \n",
       "1                 Seppia comune       2.0  \n",
       "2                      Sogliola       4.0  \n",
       "3  Merluzzo argentato - Nasello       3.0  \n",
       "4                  Mazzancolla        2.0  \n",
       "5                Rombo chiodato       1.0  \n",
       "6                        Suacia       4.0  \n",
       "7                  Capone gorno       4.0  \n",
       "8         Pannocchia, Canocchia     104.0  \n",
       "9                  Sillaginidae       3.7  "
      ]
     },
     "execution_count": 6,
     "metadata": {},
     "output_type": "execute_result"
    }
   ],
   "source": [
    "df.head(10)"
   ]
  },
  {
   "cell_type": "code",
   "execution_count": 7,
   "metadata": {},
   "outputs": [
    {
     "data": {
      "text/plain": [
       "(626117, 7)"
      ]
     },
     "execution_count": 7,
     "metadata": {},
     "output_type": "execute_result"
    }
   ],
   "source": [
    "df.shape"
   ]
  },
  {
   "cell_type": "code",
   "execution_count": null,
   "metadata": {},
   "outputs": [],
   "source": []
  }
 ],
 "metadata": {
  "kernelspec": {
   "display_name": "Python 3",
   "language": "python",
   "name": "python3"
  },
  "language_info": {
   "codemirror_mode": {
    "name": "ipython",
    "version": 3
   },
   "file_extension": ".py",
   "mimetype": "text/x-python",
   "name": "python",
   "nbconvert_exporter": "python",
   "pygments_lexer": "ipython3",
   "version": "3.7.3"
  }
 },
 "nbformat": 4,
 "nbformat_minor": 2
}
