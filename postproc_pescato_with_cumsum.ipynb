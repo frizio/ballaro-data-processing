{
 "cells": [
  {
   "cell_type": "code",
   "execution_count": 1,
   "metadata": {},
   "outputs": [],
   "source": [
    "import pandas as pd"
   ]
  },
  {
   "cell_type": "code",
   "execution_count": 2,
   "metadata": {},
   "outputs": [],
   "source": [
    "DATASET_DIR = \"pre/\""
   ]
  },
  {
   "cell_type": "code",
   "execution_count": 3,
   "metadata": {},
   "outputs": [],
   "source": [
    "df = pd.read_csv(DATASET_DIR + \"lista_sbarcato_per_porto_cleaned_tot.csv\", delimiter=',')"
   ]
  },
  {
   "cell_type": "code",
   "execution_count": 4,
   "metadata": {},
   "outputs": [
    {
     "data": {
      "text/html": [
       "<div>\n",
       "<style scoped>\n",
       "    .dataframe tbody tr th:only-of-type {\n",
       "        vertical-align: middle;\n",
       "    }\n",
       "\n",
       "    .dataframe tbody tr th {\n",
       "        vertical-align: top;\n",
       "    }\n",
       "\n",
       "    .dataframe thead th {\n",
       "        text-align: right;\n",
       "    }\n",
       "</style>\n",
       "<table border=\"1\" class=\"dataframe\">\n",
       "  <thead>\n",
       "    <tr style=\"text-align: right;\">\n",
       "      <th></th>\n",
       "      <th>Id</th>\n",
       "      <th>Data</th>\n",
       "      <th>Nomeporto</th>\n",
       "      <th>Lat</th>\n",
       "      <th>Lon</th>\n",
       "      <th>Specie</th>\n",
       "      <th>Quantity</th>\n",
       "    </tr>\n",
       "  </thead>\n",
       "  <tbody>\n",
       "    <tr>\n",
       "      <th>0</th>\n",
       "      <td>1</td>\n",
       "      <td>05-Mar-2019T02:39:00</td>\n",
       "      <td>ANCONA</td>\n",
       "      <td>43.616665</td>\n",
       "      <td>13.500000</td>\n",
       "      <td>ALTRI SGOMBRI</td>\n",
       "      <td>10.0</td>\n",
       "    </tr>\n",
       "    <tr>\n",
       "      <th>1</th>\n",
       "      <td>2</td>\n",
       "      <td>08-Apr-2019T16:00:00</td>\n",
       "      <td>ANZIO</td>\n",
       "      <td>41.450000</td>\n",
       "      <td>12.616667</td>\n",
       "      <td>ALTRI SGOMBRI</td>\n",
       "      <td>211.6</td>\n",
       "    </tr>\n",
       "    <tr>\n",
       "      <th>2</th>\n",
       "      <td>3</td>\n",
       "      <td>27-May-2019T06:06:00</td>\n",
       "      <td>BAGNARA</td>\n",
       "      <td>38.468056</td>\n",
       "      <td>16.370832</td>\n",
       "      <td>ALTRI SGOMBRI</td>\n",
       "      <td>20.0</td>\n",
       "    </tr>\n",
       "    <tr>\n",
       "      <th>3</th>\n",
       "      <td>4</td>\n",
       "      <td>17-May-2019T14:01:00</td>\n",
       "      <td>BELLARIA</td>\n",
       "      <td>44.150000</td>\n",
       "      <td>12.466666</td>\n",
       "      <td>ALTRI SGOMBRI</td>\n",
       "      <td>73.0</td>\n",
       "    </tr>\n",
       "    <tr>\n",
       "      <th>4</th>\n",
       "      <td>5</td>\n",
       "      <td>03-May-2019T12:12:00</td>\n",
       "      <td>BOSA</td>\n",
       "      <td>40.283333</td>\n",
       "      <td>8.500000</td>\n",
       "      <td>ALTRI SGOMBRI</td>\n",
       "      <td>25.0</td>\n",
       "    </tr>\n",
       "    <tr>\n",
       "      <th>5</th>\n",
       "      <td>6</td>\n",
       "      <td>12-Mar-2019T03:38:00</td>\n",
       "      <td>BRINDISI</td>\n",
       "      <td>40.616665</td>\n",
       "      <td>17.916666</td>\n",
       "      <td>ALTRI SGOMBRI</td>\n",
       "      <td>5.0</td>\n",
       "    </tr>\n",
       "    <tr>\n",
       "      <th>6</th>\n",
       "      <td>7</td>\n",
       "      <td>28-May-2019T20:40:00</td>\n",
       "      <td>CALASETTA</td>\n",
       "      <td>39.033333</td>\n",
       "      <td>8.366667</td>\n",
       "      <td>ALTRI SGOMBRI</td>\n",
       "      <td>15.0</td>\n",
       "    </tr>\n",
       "    <tr>\n",
       "      <th>7</th>\n",
       "      <td>8</td>\n",
       "      <td>21-May-2019T16:30:00</td>\n",
       "      <td>CASTELLAMMARE DEL GOLFO</td>\n",
       "      <td>38.016666</td>\n",
       "      <td>12.866667</td>\n",
       "      <td>ALTRI SGOMBRI</td>\n",
       "      <td>22.0</td>\n",
       "    </tr>\n",
       "    <tr>\n",
       "      <th>8</th>\n",
       "      <td>9</td>\n",
       "      <td>23-May-2019T21:47:00</td>\n",
       "      <td>CESENATICO</td>\n",
       "      <td>44.183334</td>\n",
       "      <td>12.400000</td>\n",
       "      <td>ALTRI SGOMBRI</td>\n",
       "      <td>181.0</td>\n",
       "    </tr>\n",
       "    <tr>\n",
       "      <th>9</th>\n",
       "      <td>10</td>\n",
       "      <td>02-May-2019T23:17:00</td>\n",
       "      <td>CHIOGGIA</td>\n",
       "      <td>45.216667</td>\n",
       "      <td>12.283333</td>\n",
       "      <td>ALTRI SGOMBRI</td>\n",
       "      <td>9.0</td>\n",
       "    </tr>\n",
       "  </tbody>\n",
       "</table>\n",
       "</div>"
      ],
      "text/plain": [
       "   Id                  Data                Nomeporto        Lat        Lon  \\\n",
       "0   1  05-Mar-2019T02:39:00                   ANCONA  43.616665  13.500000   \n",
       "1   2  08-Apr-2019T16:00:00                    ANZIO  41.450000  12.616667   \n",
       "2   3  27-May-2019T06:06:00                  BAGNARA  38.468056  16.370832   \n",
       "3   4  17-May-2019T14:01:00                 BELLARIA  44.150000  12.466666   \n",
       "4   5  03-May-2019T12:12:00                     BOSA  40.283333   8.500000   \n",
       "5   6  12-Mar-2019T03:38:00                 BRINDISI  40.616665  17.916666   \n",
       "6   7  28-May-2019T20:40:00                CALASETTA  39.033333   8.366667   \n",
       "7   8  21-May-2019T16:30:00  CASTELLAMMARE DEL GOLFO  38.016666  12.866667   \n",
       "8   9  23-May-2019T21:47:00               CESENATICO  44.183334  12.400000   \n",
       "9  10  02-May-2019T23:17:00                 CHIOGGIA  45.216667  12.283333   \n",
       "\n",
       "          Specie  Quantity  \n",
       "0  ALTRI SGOMBRI      10.0  \n",
       "1  ALTRI SGOMBRI     211.6  \n",
       "2  ALTRI SGOMBRI      20.0  \n",
       "3  ALTRI SGOMBRI      73.0  \n",
       "4  ALTRI SGOMBRI      25.0  \n",
       "5  ALTRI SGOMBRI       5.0  \n",
       "6  ALTRI SGOMBRI      15.0  \n",
       "7  ALTRI SGOMBRI      22.0  \n",
       "8  ALTRI SGOMBRI     181.0  \n",
       "9  ALTRI SGOMBRI       9.0  "
      ]
     },
     "execution_count": 4,
     "metadata": {},
     "output_type": "execute_result"
    }
   ],
   "source": [
    "df.head(10)"
   ]
  },
  {
   "cell_type": "code",
   "execution_count": 5,
   "metadata": {},
   "outputs": [
    {
     "data": {
      "text/plain": [
       "(11381, 7)"
      ]
     },
     "execution_count": 5,
     "metadata": {},
     "output_type": "execute_result"
    }
   ],
   "source": [
    "df.shape"
   ]
  },
  {
   "cell_type": "code",
   "execution_count": 6,
   "metadata": {},
   "outputs": [],
   "source": [
    "df_10 = df.loc[df['Quantity'] > 200] ###### Diminuire numero di righe (++++++++++++++)"
   ]
  },
  {
   "cell_type": "code",
   "execution_count": 7,
   "metadata": {},
   "outputs": [
    {
     "data": {
      "text/plain": [
       "(3952, 7)"
      ]
     },
     "execution_count": 7,
     "metadata": {},
     "output_type": "execute_result"
    }
   ],
   "source": [
    "df_10.shape"
   ]
  },
  {
   "cell_type": "code",
   "execution_count": 14,
   "metadata": {},
   "outputs": [
    {
     "data": {
      "text/html": [
       "<div>\n",
       "<style scoped>\n",
       "    .dataframe tbody tr th:only-of-type {\n",
       "        vertical-align: middle;\n",
       "    }\n",
       "\n",
       "    .dataframe tbody tr th {\n",
       "        vertical-align: top;\n",
       "    }\n",
       "\n",
       "    .dataframe thead th {\n",
       "        text-align: right;\n",
       "    }\n",
       "</style>\n",
       "<table border=\"1\" class=\"dataframe\">\n",
       "  <thead>\n",
       "    <tr style=\"text-align: right;\">\n",
       "      <th></th>\n",
       "      <th>Id</th>\n",
       "      <th>Data</th>\n",
       "      <th>Nomeporto</th>\n",
       "      <th>Lat</th>\n",
       "      <th>Lon</th>\n",
       "      <th>Specie</th>\n",
       "      <th>Quantity</th>\n",
       "    </tr>\n",
       "  </thead>\n",
       "  <tbody>\n",
       "    <tr>\n",
       "      <th>11360</th>\n",
       "      <td>11361</td>\n",
       "      <td>30-May-2019T17:37:00</td>\n",
       "      <td>La Caletta di Siniscola</td>\n",
       "      <td>41.020832</td>\n",
       "      <td>10.251389</td>\n",
       "      <td>Zerro musillo</td>\n",
       "      <td>1467.0</td>\n",
       "    </tr>\n",
       "    <tr>\n",
       "      <th>11364</th>\n",
       "      <td>11365</td>\n",
       "      <td>30-Mar-2019T02:19:00</td>\n",
       "      <td>ORISTANO</td>\n",
       "      <td>39.900000</td>\n",
       "      <td>8.583333</td>\n",
       "      <td>Zerro musillo</td>\n",
       "      <td>465.0</td>\n",
       "    </tr>\n",
       "    <tr>\n",
       "      <th>11371</th>\n",
       "      <td>11372</td>\n",
       "      <td>24-May-2019T19:25:00</td>\n",
       "      <td>PORTOSCUSO</td>\n",
       "      <td>39.200000</td>\n",
       "      <td>8.366667</td>\n",
       "      <td>Zerro musillo</td>\n",
       "      <td>2783.0</td>\n",
       "    </tr>\n",
       "    <tr>\n",
       "      <th>11377</th>\n",
       "      <td>11378</td>\n",
       "      <td>21-May-2019T04:35:00</td>\n",
       "      <td>TERRASINI</td>\n",
       "      <td>38.133335</td>\n",
       "      <td>13.066667</td>\n",
       "      <td>Zerro musillo</td>\n",
       "      <td>266.0</td>\n",
       "    </tr>\n",
       "    <tr>\n",
       "      <th>11378</th>\n",
       "      <td>11379</td>\n",
       "      <td>29-May-2019T23:36:00</td>\n",
       "      <td>TRAPANI</td>\n",
       "      <td>38.016666</td>\n",
       "      <td>12.466666</td>\n",
       "      <td>Zerro musillo</td>\n",
       "      <td>330.0</td>\n",
       "    </tr>\n",
       "  </tbody>\n",
       "</table>\n",
       "</div>"
      ],
      "text/plain": [
       "          Id                  Data                Nomeporto        Lat  \\\n",
       "11360  11361  30-May-2019T17:37:00  La Caletta di Siniscola  41.020832   \n",
       "11364  11365  30-Mar-2019T02:19:00                 ORISTANO  39.900000   \n",
       "11371  11372  24-May-2019T19:25:00               PORTOSCUSO  39.200000   \n",
       "11377  11378  21-May-2019T04:35:00                TERRASINI  38.133335   \n",
       "11378  11379  29-May-2019T23:36:00                  TRAPANI  38.016666   \n",
       "\n",
       "             Lon         Specie  Quantity  \n",
       "11360  10.251389  Zerro musillo    1467.0  \n",
       "11364   8.583333  Zerro musillo     465.0  \n",
       "11371   8.366667  Zerro musillo    2783.0  \n",
       "11377  13.066667  Zerro musillo     266.0  \n",
       "11378  12.466666  Zerro musillo     330.0  "
      ]
     },
     "execution_count": 14,
     "metadata": {},
     "output_type": "execute_result"
    }
   ],
   "source": [
    "df_10.tail()"
   ]
  },
  {
   "cell_type": "code",
   "execution_count": 18,
   "metadata": {},
   "outputs": [],
   "source": [
    "df_10 = df_10.drop('Data', axis=1)"
   ]
  },
  {
   "cell_type": "code",
   "execution_count": 19,
   "metadata": {},
   "outputs": [],
   "source": [
    "df_10.to_csv('out/lista_sbarcato_per_porto_cleaned_tot_postproc.csv', header=None, index=False)"
   ]
  },
  {
   "cell_type": "code",
   "execution_count": null,
   "metadata": {},
   "outputs": [],
   "source": [
    "df_porti = df[['Nomeporto', 'Lat', 'Lon']].drop_duplicates()"
   ]
  },
  {
   "cell_type": "code",
   "execution_count": null,
   "metadata": {},
   "outputs": [],
   "source": [
    "df_porti.to_csv('out/porti_italiani.csv', header=None, index=False)"
   ]
  },
  {
   "cell_type": "code",
   "execution_count": null,
   "metadata": {},
   "outputs": [],
   "source": []
  }
 ],
 "metadata": {
  "kernelspec": {
   "display_name": "Python 3",
   "language": "python",
   "name": "python3"
  },
  "language_info": {
   "codemirror_mode": {
    "name": "ipython",
    "version": 3
   },
   "file_extension": ".py",
   "mimetype": "text/x-python",
   "name": "python",
   "nbconvert_exporter": "python",
   "pygments_lexer": "ipython3",
   "version": "3.7.3"
  }
 },
 "nbformat": 4,
 "nbformat_minor": 2
}
