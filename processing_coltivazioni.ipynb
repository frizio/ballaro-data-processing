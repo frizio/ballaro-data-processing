{
 "cells": [
  {
   "cell_type": "code",
   "execution_count": 1,
   "metadata": {},
   "outputs": [],
   "source": [
    "import pandas as pd"
   ]
  },
  {
   "cell_type": "code",
   "execution_count": 2,
   "metadata": {},
   "outputs": [],
   "source": [
    "DATASET_DIR = \"data/coltivazioni/\""
   ]
  },
  {
   "cell_type": "code",
   "execution_count": 3,
   "metadata": {},
   "outputs": [],
   "source": [
    "df = pd.read_csv(DATASET_DIR + \"DCSP_COLTIVAZIONI_26082019111726834.csv\", delimiter=',')"
   ]
  },
  {
   "cell_type": "code",
   "execution_count": 4,
   "metadata": {},
   "outputs": [
    {
     "data": {
      "text/html": [
       "<div>\n",
       "<style scoped>\n",
       "    .dataframe tbody tr th:only-of-type {\n",
       "        vertical-align: middle;\n",
       "    }\n",
       "\n",
       "    .dataframe tbody tr th {\n",
       "        vertical-align: top;\n",
       "    }\n",
       "\n",
       "    .dataframe thead th {\n",
       "        text-align: right;\n",
       "    }\n",
       "</style>\n",
       "<table border=\"1\" class=\"dataframe\">\n",
       "  <thead>\n",
       "    <tr style=\"text-align: right;\">\n",
       "      <th></th>\n",
       "      <th>ITTER107</th>\n",
       "      <th>Territorio</th>\n",
       "      <th>TIPO_DATO5</th>\n",
       "      <th>Tipo variabile</th>\n",
       "      <th>AGRI_MADRE</th>\n",
       "      <th>Tipo di coltivazione</th>\n",
       "      <th>TIME</th>\n",
       "      <th>Seleziona periodo</th>\n",
       "      <th>Value</th>\n",
       "    </tr>\n",
       "  </thead>\n",
       "  <tbody>\n",
       "    <tr>\n",
       "      <th>0</th>\n",
       "      <td>IT</td>\n",
       "      <td>Italia</td>\n",
       "      <td>TP_QUIN_EXT</td>\n",
       "      <td>produzione totale - quintali</td>\n",
       "      <td>RADIINGRE</td>\n",
       "      <td>radicchio in serra</td>\n",
       "      <td>2017</td>\n",
       "      <td>2017</td>\n",
       "      <td>66494</td>\n",
       "    </tr>\n",
       "    <tr>\n",
       "      <th>1</th>\n",
       "      <td>IT</td>\n",
       "      <td>Italia</td>\n",
       "      <td>TP_QUIN_EXT</td>\n",
       "      <td>produzione totale - quintali</td>\n",
       "      <td>RADIINGRE</td>\n",
       "      <td>radicchio in serra</td>\n",
       "      <td>2018</td>\n",
       "      <td>2018</td>\n",
       "      <td>73726</td>\n",
       "    </tr>\n",
       "    <tr>\n",
       "      <th>2</th>\n",
       "      <td>IT</td>\n",
       "      <td>Italia</td>\n",
       "      <td>HP_Q_EXT</td>\n",
       "      <td>produzione raccolta - quintali</td>\n",
       "      <td>RADIINGRE</td>\n",
       "      <td>radicchio in serra</td>\n",
       "      <td>2017</td>\n",
       "      <td>2017</td>\n",
       "      <td>64383</td>\n",
       "    </tr>\n",
       "    <tr>\n",
       "      <th>3</th>\n",
       "      <td>IT</td>\n",
       "      <td>Italia</td>\n",
       "      <td>HP_Q_EXT</td>\n",
       "      <td>produzione raccolta - quintali</td>\n",
       "      <td>RADIINGRE</td>\n",
       "      <td>radicchio in serra</td>\n",
       "      <td>2018</td>\n",
       "      <td>2018</td>\n",
       "      <td>71530</td>\n",
       "    </tr>\n",
       "    <tr>\n",
       "      <th>4</th>\n",
       "      <td>IT</td>\n",
       "      <td>Italia</td>\n",
       "      <td>ART_ARE</td>\n",
       "      <td>superficie totale - are</td>\n",
       "      <td>RADIINGRE</td>\n",
       "      <td>radicchio in serra</td>\n",
       "      <td>2017</td>\n",
       "      <td>2017</td>\n",
       "      <td>21904</td>\n",
       "    </tr>\n",
       "    <tr>\n",
       "      <th>5</th>\n",
       "      <td>IT</td>\n",
       "      <td>Italia</td>\n",
       "      <td>ART_ARE</td>\n",
       "      <td>superficie totale - are</td>\n",
       "      <td>RADIINGRE</td>\n",
       "      <td>radicchio in serra</td>\n",
       "      <td>2018</td>\n",
       "      <td>2018</td>\n",
       "      <td>24098</td>\n",
       "    </tr>\n",
       "    <tr>\n",
       "      <th>6</th>\n",
       "      <td>ITCD</td>\n",
       "      <td>Nord</td>\n",
       "      <td>TP_QUIN_EXT</td>\n",
       "      <td>produzione totale - quintali</td>\n",
       "      <td>RADIINGRE</td>\n",
       "      <td>radicchio in serra</td>\n",
       "      <td>2017</td>\n",
       "      <td>2017</td>\n",
       "      <td>35415</td>\n",
       "    </tr>\n",
       "    <tr>\n",
       "      <th>7</th>\n",
       "      <td>ITCD</td>\n",
       "      <td>Nord</td>\n",
       "      <td>HP_Q_EXT</td>\n",
       "      <td>produzione raccolta - quintali</td>\n",
       "      <td>RADIINGRE</td>\n",
       "      <td>radicchio in serra</td>\n",
       "      <td>2017</td>\n",
       "      <td>2017</td>\n",
       "      <td>35082</td>\n",
       "    </tr>\n",
       "    <tr>\n",
       "      <th>8</th>\n",
       "      <td>ITCD</td>\n",
       "      <td>Nord</td>\n",
       "      <td>ART_ARE</td>\n",
       "      <td>superficie totale - are</td>\n",
       "      <td>RADIINGRE</td>\n",
       "      <td>radicchio in serra</td>\n",
       "      <td>2017</td>\n",
       "      <td>2017</td>\n",
       "      <td>11738</td>\n",
       "    </tr>\n",
       "    <tr>\n",
       "      <th>9</th>\n",
       "      <td>ITC1</td>\n",
       "      <td>Piemonte</td>\n",
       "      <td>TP_QUIN_EXT</td>\n",
       "      <td>produzione totale - quintali</td>\n",
       "      <td>RADIINGRE</td>\n",
       "      <td>radicchio in serra</td>\n",
       "      <td>2017</td>\n",
       "      <td>2017</td>\n",
       "      <td>1565</td>\n",
       "    </tr>\n",
       "  </tbody>\n",
       "</table>\n",
       "</div>"
      ],
      "text/plain": [
       "  ITTER107 Territorio   TIPO_DATO5                   Tipo variabile  \\\n",
       "0       IT     Italia  TP_QUIN_EXT    produzione totale - quintali    \n",
       "1       IT     Italia  TP_QUIN_EXT    produzione totale - quintali    \n",
       "2       IT     Italia     HP_Q_EXT  produzione raccolta - quintali    \n",
       "3       IT     Italia     HP_Q_EXT  produzione raccolta - quintali    \n",
       "4       IT     Italia      ART_ARE          superficie totale - are   \n",
       "5       IT     Italia      ART_ARE          superficie totale - are   \n",
       "6     ITCD       Nord  TP_QUIN_EXT    produzione totale - quintali    \n",
       "7     ITCD       Nord     HP_Q_EXT  produzione raccolta - quintali    \n",
       "8     ITCD       Nord      ART_ARE          superficie totale - are   \n",
       "9     ITC1   Piemonte  TP_QUIN_EXT    produzione totale - quintali    \n",
       "\n",
       "  AGRI_MADRE Tipo di coltivazione  TIME  Seleziona periodo  Value  \n",
       "0  RADIINGRE   radicchio in serra  2017               2017  66494  \n",
       "1  RADIINGRE   radicchio in serra  2018               2018  73726  \n",
       "2  RADIINGRE   radicchio in serra  2017               2017  64383  \n",
       "3  RADIINGRE   radicchio in serra  2018               2018  71530  \n",
       "4  RADIINGRE   radicchio in serra  2017               2017  21904  \n",
       "5  RADIINGRE   radicchio in serra  2018               2018  24098  \n",
       "6  RADIINGRE   radicchio in serra  2017               2017  35415  \n",
       "7  RADIINGRE   radicchio in serra  2017               2017  35082  \n",
       "8  RADIINGRE   radicchio in serra  2017               2017  11738  \n",
       "9  RADIINGRE   radicchio in serra  2017               2017   1565  "
      ]
     },
     "execution_count": 4,
     "metadata": {},
     "output_type": "execute_result"
    }
   ],
   "source": [
    "df.head(10)"
   ]
  },
  {
   "cell_type": "code",
   "execution_count": 5,
   "metadata": {},
   "outputs": [
    {
     "data": {
      "text/plain": [
       "(65728, 9)"
      ]
     },
     "execution_count": 5,
     "metadata": {},
     "output_type": "execute_result"
    }
   ],
   "source": [
    "df.shape"
   ]
  },
  {
   "cell_type": "code",
   "execution_count": 6,
   "metadata": {},
   "outputs": [],
   "source": [
    "df_2018 = df.loc[df['TIME'] == 2018]"
   ]
  },
  {
   "cell_type": "code",
   "execution_count": 7,
   "metadata": {},
   "outputs": [
    {
     "data": {
      "text/plain": [
       "(32151, 9)"
      ]
     },
     "execution_count": 7,
     "metadata": {},
     "output_type": "execute_result"
    }
   ],
   "source": [
    "df_2018.shape"
   ]
  },
  {
   "cell_type": "markdown",
   "metadata": {},
   "source": [
    "# Creazione dati produzione 2018"
   ]
  },
  {
   "cell_type": "code",
   "execution_count": 8,
   "metadata": {},
   "outputs": [],
   "source": [
    "df_produzione_totale_2018 = df_2018.loc[df_2018['Tipo variabile'] == \"produzione raccolta - quintali \"]"
   ]
  },
  {
   "cell_type": "code",
   "execution_count": 9,
   "metadata": {},
   "outputs": [
    {
     "data": {
      "text/plain": [
       "(8601, 9)"
      ]
     },
     "execution_count": 9,
     "metadata": {},
     "output_type": "execute_result"
    }
   ],
   "source": [
    "df_produzione_totale_2018.shape"
   ]
  },
  {
   "cell_type": "code",
   "execution_count": 10,
   "metadata": {},
   "outputs": [
    {
     "data": {
      "text/html": [
       "<div>\n",
       "<style scoped>\n",
       "    .dataframe tbody tr th:only-of-type {\n",
       "        vertical-align: middle;\n",
       "    }\n",
       "\n",
       "    .dataframe tbody tr th {\n",
       "        vertical-align: top;\n",
       "    }\n",
       "\n",
       "    .dataframe thead th {\n",
       "        text-align: right;\n",
       "    }\n",
       "</style>\n",
       "<table border=\"1\" class=\"dataframe\">\n",
       "  <thead>\n",
       "    <tr style=\"text-align: right;\">\n",
       "      <th></th>\n",
       "      <th>ITTER107</th>\n",
       "      <th>Territorio</th>\n",
       "      <th>TIPO_DATO5</th>\n",
       "      <th>Tipo variabile</th>\n",
       "      <th>AGRI_MADRE</th>\n",
       "      <th>Tipo di coltivazione</th>\n",
       "      <th>TIME</th>\n",
       "      <th>Seleziona periodo</th>\n",
       "      <th>Value</th>\n",
       "    </tr>\n",
       "  </thead>\n",
       "  <tbody>\n",
       "    <tr>\n",
       "      <th>3</th>\n",
       "      <td>IT</td>\n",
       "      <td>Italia</td>\n",
       "      <td>HP_Q_EXT</td>\n",
       "      <td>produzione raccolta - quintali</td>\n",
       "      <td>RADIINGRE</td>\n",
       "      <td>radicchio in serra</td>\n",
       "      <td>2018</td>\n",
       "      <td>2018</td>\n",
       "      <td>71530</td>\n",
       "    </tr>\n",
       "    <tr>\n",
       "      <th>12</th>\n",
       "      <td>ITC1</td>\n",
       "      <td>Piemonte</td>\n",
       "      <td>HP_Q_EXT</td>\n",
       "      <td>produzione raccolta - quintali</td>\n",
       "      <td>RADIINGRE</td>\n",
       "      <td>radicchio in serra</td>\n",
       "      <td>2018</td>\n",
       "      <td>2018</td>\n",
       "      <td>1692</td>\n",
       "    </tr>\n",
       "    <tr>\n",
       "      <th>18</th>\n",
       "      <td>ITC16</td>\n",
       "      <td>Cuneo</td>\n",
       "      <td>HP_Q_EXT</td>\n",
       "      <td>produzione raccolta - quintali</td>\n",
       "      <td>RADIINGRE</td>\n",
       "      <td>radicchio in serra</td>\n",
       "      <td>2018</td>\n",
       "      <td>2018</td>\n",
       "      <td>842</td>\n",
       "    </tr>\n",
       "    <tr>\n",
       "      <th>24</th>\n",
       "      <td>ITC17</td>\n",
       "      <td>Asti</td>\n",
       "      <td>HP_Q_EXT</td>\n",
       "      <td>produzione raccolta - quintali</td>\n",
       "      <td>RADIINGRE</td>\n",
       "      <td>radicchio in serra</td>\n",
       "      <td>2018</td>\n",
       "      <td>2018</td>\n",
       "      <td>850</td>\n",
       "    </tr>\n",
       "    <tr>\n",
       "      <th>30</th>\n",
       "      <td>ITC3</td>\n",
       "      <td>Liguria</td>\n",
       "      <td>HP_Q_EXT</td>\n",
       "      <td>produzione raccolta - quintali</td>\n",
       "      <td>RADIINGRE</td>\n",
       "      <td>radicchio in serra</td>\n",
       "      <td>2018</td>\n",
       "      <td>2018</td>\n",
       "      <td>600</td>\n",
       "    </tr>\n",
       "  </tbody>\n",
       "</table>\n",
       "</div>"
      ],
      "text/plain": [
       "   ITTER107 Territorio TIPO_DATO5                   Tipo variabile AGRI_MADRE  \\\n",
       "3        IT     Italia   HP_Q_EXT  produzione raccolta - quintali   RADIINGRE   \n",
       "12     ITC1   Piemonte   HP_Q_EXT  produzione raccolta - quintali   RADIINGRE   \n",
       "18    ITC16      Cuneo   HP_Q_EXT  produzione raccolta - quintali   RADIINGRE   \n",
       "24    ITC17       Asti   HP_Q_EXT  produzione raccolta - quintali   RADIINGRE   \n",
       "30     ITC3    Liguria   HP_Q_EXT  produzione raccolta - quintali   RADIINGRE   \n",
       "\n",
       "   Tipo di coltivazione  TIME  Seleziona periodo  Value  \n",
       "3    radicchio in serra  2018               2018  71530  \n",
       "12   radicchio in serra  2018               2018   1692  \n",
       "18   radicchio in serra  2018               2018    842  \n",
       "24   radicchio in serra  2018               2018    850  \n",
       "30   radicchio in serra  2018               2018    600  "
      ]
     },
     "execution_count": 10,
     "metadata": {},
     "output_type": "execute_result"
    }
   ],
   "source": [
    "df_produzione_totale_2018.head()"
   ]
  },
  {
   "cell_type": "markdown",
   "metadata": {},
   "source": [
    "# Export dati produzione per regione (non usati)"
   ]
  },
  {
   "cell_type": "code",
   "execution_count": null,
   "metadata": {},
   "outputs": [],
   "source": [
    "df_produzione_totale_per_ragione_2018 = df_produzione_totale_2018.loc[df_produzione_totale_2018['ITTER107'].str.contains(r'^IT[A-Z][0-9]$')]"
   ]
  },
  {
   "cell_type": "code",
   "execution_count": null,
   "metadata": {},
   "outputs": [],
   "source": [
    "df_produzione_totale_per_ragione_2018.shape"
   ]
  },
  {
   "cell_type": "code",
   "execution_count": null,
   "metadata": {},
   "outputs": [],
   "source": [
    "df_produzione_totale_per_ragione_2018"
   ]
  },
  {
   "cell_type": "code",
   "execution_count": null,
   "metadata": {},
   "outputs": [],
   "source": [
    "#df_produzione_totale_per_ragione_2018.to_csv('out/produzione_totale_per_ragione_2018_cleaned.csv')"
   ]
  },
  {
   "cell_type": "markdown",
   "metadata": {},
   "source": [
    "# Export dati produzione per provincia"
   ]
  },
  {
   "cell_type": "code",
   "execution_count": 11,
   "metadata": {},
   "outputs": [],
   "source": [
    "df_produzione_totale_per_provincia_2018 = df_produzione_totale_2018.loc[df_produzione_totale_2018['ITTER107'].map(str).apply(len) == 5]"
   ]
  },
  {
   "cell_type": "code",
   "execution_count": 12,
   "metadata": {},
   "outputs": [
    {
     "data": {
      "text/plain": [
       "(6589, 9)"
      ]
     },
     "execution_count": 12,
     "metadata": {},
     "output_type": "execute_result"
    }
   ],
   "source": [
    "df_produzione_totale_per_provincia_2018.shape"
   ]
  },
  {
   "cell_type": "code",
   "execution_count": 13,
   "metadata": {},
   "outputs": [
    {
     "data": {
      "text/html": [
       "<div>\n",
       "<style scoped>\n",
       "    .dataframe tbody tr th:only-of-type {\n",
       "        vertical-align: middle;\n",
       "    }\n",
       "\n",
       "    .dataframe tbody tr th {\n",
       "        vertical-align: top;\n",
       "    }\n",
       "\n",
       "    .dataframe thead th {\n",
       "        text-align: right;\n",
       "    }\n",
       "</style>\n",
       "<table border=\"1\" class=\"dataframe\">\n",
       "  <thead>\n",
       "    <tr style=\"text-align: right;\">\n",
       "      <th></th>\n",
       "      <th>ITTER107</th>\n",
       "      <th>Territorio</th>\n",
       "      <th>TIPO_DATO5</th>\n",
       "      <th>Tipo variabile</th>\n",
       "      <th>AGRI_MADRE</th>\n",
       "      <th>Tipo di coltivazione</th>\n",
       "      <th>TIME</th>\n",
       "      <th>Seleziona periodo</th>\n",
       "      <th>Value</th>\n",
       "    </tr>\n",
       "  </thead>\n",
       "  <tbody>\n",
       "    <tr>\n",
       "      <th>18</th>\n",
       "      <td>ITC16</td>\n",
       "      <td>Cuneo</td>\n",
       "      <td>HP_Q_EXT</td>\n",
       "      <td>produzione raccolta - quintali</td>\n",
       "      <td>RADIINGRE</td>\n",
       "      <td>radicchio in serra</td>\n",
       "      <td>2018</td>\n",
       "      <td>2018</td>\n",
       "      <td>842</td>\n",
       "    </tr>\n",
       "    <tr>\n",
       "      <th>24</th>\n",
       "      <td>ITC17</td>\n",
       "      <td>Asti</td>\n",
       "      <td>HP_Q_EXT</td>\n",
       "      <td>produzione raccolta - quintali</td>\n",
       "      <td>RADIINGRE</td>\n",
       "      <td>radicchio in serra</td>\n",
       "      <td>2018</td>\n",
       "      <td>2018</td>\n",
       "      <td>850</td>\n",
       "    </tr>\n",
       "    <tr>\n",
       "      <th>36</th>\n",
       "      <td>ITC34</td>\n",
       "      <td>La Spezia</td>\n",
       "      <td>HP_Q_EXT</td>\n",
       "      <td>produzione raccolta - quintali</td>\n",
       "      <td>RADIINGRE</td>\n",
       "      <td>radicchio in serra</td>\n",
       "      <td>2018</td>\n",
       "      <td>2018</td>\n",
       "      <td>600</td>\n",
       "    </tr>\n",
       "    <tr>\n",
       "      <th>48</th>\n",
       "      <td>ITC41</td>\n",
       "      <td>Varese</td>\n",
       "      <td>HP_Q_EXT</td>\n",
       "      <td>produzione raccolta - quintali</td>\n",
       "      <td>RADIINGRE</td>\n",
       "      <td>radicchio in serra</td>\n",
       "      <td>2018</td>\n",
       "      <td>2018</td>\n",
       "      <td>30</td>\n",
       "    </tr>\n",
       "    <tr>\n",
       "      <th>54</th>\n",
       "      <td>ITC45</td>\n",
       "      <td>Milano</td>\n",
       "      <td>HP_Q_EXT</td>\n",
       "      <td>produzione raccolta - quintali</td>\n",
       "      <td>RADIINGRE</td>\n",
       "      <td>radicchio in serra</td>\n",
       "      <td>2018</td>\n",
       "      <td>2018</td>\n",
       "      <td>4030</td>\n",
       "    </tr>\n",
       "  </tbody>\n",
       "</table>\n",
       "</div>"
      ],
      "text/plain": [
       "   ITTER107 Territorio TIPO_DATO5                   Tipo variabile AGRI_MADRE  \\\n",
       "18    ITC16      Cuneo   HP_Q_EXT  produzione raccolta - quintali   RADIINGRE   \n",
       "24    ITC17       Asti   HP_Q_EXT  produzione raccolta - quintali   RADIINGRE   \n",
       "36    ITC34  La Spezia   HP_Q_EXT  produzione raccolta - quintali   RADIINGRE   \n",
       "48    ITC41     Varese   HP_Q_EXT  produzione raccolta - quintali   RADIINGRE   \n",
       "54    ITC45     Milano   HP_Q_EXT  produzione raccolta - quintali   RADIINGRE   \n",
       "\n",
       "   Tipo di coltivazione  TIME  Seleziona periodo  Value  \n",
       "18   radicchio in serra  2018               2018    842  \n",
       "24   radicchio in serra  2018               2018    850  \n",
       "36   radicchio in serra  2018               2018    600  \n",
       "48   radicchio in serra  2018               2018     30  \n",
       "54   radicchio in serra  2018               2018   4030  "
      ]
     },
     "execution_count": 13,
     "metadata": {},
     "output_type": "execute_result"
    }
   ],
   "source": [
    "df_produzione_totale_per_provincia_2018.head()"
   ]
  },
  {
   "cell_type": "code",
   "execution_count": 14,
   "metadata": {},
   "outputs": [],
   "source": [
    "qta_min = 2000\n",
    "df_produzione_totale_per_provincia_2018 = df_produzione_totale_per_provincia_2018.loc[df_produzione_totale_per_provincia_2018['Value'] > qta_min]\n",
    "# diminuire numero di righe, temporaneo"
   ]
  },
  {
   "cell_type": "code",
   "execution_count": 15,
   "metadata": {},
   "outputs": [
    {
     "data": {
      "text/plain": [
       "(3812, 9)"
      ]
     },
     "execution_count": 15,
     "metadata": {},
     "output_type": "execute_result"
    }
   ],
   "source": [
    "df_produzione_totale_per_provincia_2018.shape"
   ]
  },
  {
   "cell_type": "code",
   "execution_count": 16,
   "metadata": {},
   "outputs": [],
   "source": [
    "export_col = ['ITTER107', 'Territorio', 'Tipo di coltivazione', 'Value']"
   ]
  },
  {
   "cell_type": "code",
   "execution_count": 17,
   "metadata": {},
   "outputs": [],
   "source": [
    "df_produzione_totale_per_provincia_2018[export_col].to_csv('out/produzione_totale_per_provincia_2018_cleaned_postproc.csv', header=None, index=False)"
   ]
  },
  {
   "cell_type": "code",
   "execution_count": null,
   "metadata": {},
   "outputs": [],
   "source": []
  }
 ],
 "metadata": {
  "kernelspec": {
   "display_name": "Python 3",
   "language": "python",
   "name": "python3"
  },
  "language_info": {
   "codemirror_mode": {
    "name": "ipython",
    "version": 3
   },
   "file_extension": ".py",
   "mimetype": "text/x-python",
   "name": "python",
   "nbconvert_exporter": "python",
   "pygments_lexer": "ipython3",
   "version": "3.7.3"
  }
 },
 "nbformat": 4,
 "nbformat_minor": 2
}
